{
  "nbformat": 4,
  "nbformat_minor": 0,
  "metadata": {
    "colab": {
      "name": "tf.data: создание входных конвейеров TensorFlow.ipynb",
      "provenance": [],
      "toc_visible": true,
      "authorship_tag": "ABX9TyPYr8VoX+LLPcQL0CrVUjUw",
      "include_colab_link": true
    },
    "kernelspec": {
      "name": "python3",
      "display_name": "Python 3"
    }
  },
  "cells": [
    {
      "cell_type": "markdown",
      "metadata": {
        "id": "view-in-github",
        "colab_type": "text"
      },
      "source": [
        "<a href=\"https://colab.research.google.com/github/prog815/learnTensorFlow/blob/master/tf_data_%D1%81%D0%BE%D0%B7%D0%B4%D0%B0%D0%BD%D0%B8%D0%B5_%D0%B2%D1%85%D0%BE%D0%B4%D0%BD%D1%8B%D1%85_%D0%BA%D0%BE%D0%BD%D0%B2%D0%B5%D0%B9%D0%B5%D1%80%D0%BE%D0%B2_TensorFlow.ipynb\" target=\"_parent\"><img src=\"https://colab.research.google.com/assets/colab-badge.svg\" alt=\"Open In Colab\"/></a>"
      ]
    },
    {
      "cell_type": "markdown",
      "metadata": {
        "id": "aaINOAkoZg7O",
        "colab_type": "text"
      },
      "source": [
        "tf.data: создание входных конвейеров TensorFlow.\n",
        "\n",
        "https://www.tensorflow.org/guide/data\n",
        "\n",
        "Енин А.В. \n",
        "\n",
        "16.08.2020\n",
        "\n",
        "Оренбург"
      ]
    },
    {
      "cell_type": "code",
      "metadata": {
        "id": "uC2mVE7vYlqM",
        "colab_type": "code",
        "colab": {}
      },
      "source": [
        "import tensorflow as tf"
      ],
      "execution_count": null,
      "outputs": []
    },
    {
      "cell_type": "code",
      "metadata": {
        "id": "Qll0dGcgYy4H",
        "colab_type": "code",
        "colab": {
          "base_uri": "https://localhost:8080/",
          "height": 34
        },
        "outputId": "a5ba959c-bf86-4e21-b533-bfdf68265661"
      },
      "source": [
        "dataset = tf.data.Dataset.from_tensor_slices([1,2,3,4,5,4,3,2,1])\n",
        "dataset"
      ],
      "execution_count": null,
      "outputs": [
        {
          "output_type": "execute_result",
          "data": {
            "text/plain": [
              "<TensorSliceDataset shapes: (), types: tf.int32>"
            ]
          },
          "metadata": {
            "tags": []
          },
          "execution_count": 2
        }
      ]
    },
    {
      "cell_type": "code",
      "metadata": {
        "id": "LA092xNjZW97",
        "colab_type": "code",
        "colab": {
          "base_uri": "https://localhost:8080/",
          "height": 168
        },
        "outputId": "f5274723-701b-468d-8298-c378f97446c6"
      },
      "source": [
        "for elem in dataset:\n",
        "    print(elem.numpy())"
      ],
      "execution_count": null,
      "outputs": [
        {
          "output_type": "stream",
          "text": [
            "1\n",
            "2\n",
            "3\n",
            "4\n",
            "5\n",
            "4\n",
            "3\n",
            "2\n",
            "1\n"
          ],
          "name": "stdout"
        }
      ]
    },
    {
      "cell_type": "code",
      "metadata": {
        "id": "HrGDkH9saCUJ",
        "colab_type": "code",
        "colab": {
          "base_uri": "https://localhost:8080/",
          "height": 34
        },
        "outputId": "cc921ace-dbf6-4685-aa1c-1d0198cbea54"
      },
      "source": [
        "it = iter(dataset)\n",
        "print(next(it).numpy())"
      ],
      "execution_count": null,
      "outputs": [
        {
          "output_type": "stream",
          "text": [
            "1\n"
          ],
          "name": "stdout"
        }
      ]
    },
    {
      "cell_type": "code",
      "metadata": {
        "id": "tuTC8RxoacxY",
        "colab_type": "code",
        "colab": {
          "base_uri": "https://localhost:8080/",
          "height": 34
        },
        "outputId": "1ebd3b8a-96d8-442d-885d-9004f450e1a9"
      },
      "source": [
        "dataset.reduce(0,lambda st,vl : st + vl**2).numpy()"
      ],
      "execution_count": null,
      "outputs": [
        {
          "output_type": "execute_result",
          "data": {
            "text/plain": [
              "85"
            ]
          },
          "metadata": {
            "tags": []
          },
          "execution_count": 5
        }
      ]
    },
    {
      "cell_type": "code",
      "metadata": {
        "id": "SC8qlA2xfGxI",
        "colab_type": "code",
        "colab": {
          "base_uri": "https://localhost:8080/",
          "height": 34
        },
        "outputId": "5bc0157c-7a8a-45f0-ca64-84954274b9bf"
      },
      "source": [
        "dataset1 = tf.data.Dataset.from_tensor_slices(tf.random.uniform((4,3)))\n",
        "dataset1.element_spec"
      ],
      "execution_count": null,
      "outputs": [
        {
          "output_type": "execute_result",
          "data": {
            "text/plain": [
              "TensorSpec(shape=(3,), dtype=tf.float32, name=None)"
            ]
          },
          "metadata": {
            "tags": []
          },
          "execution_count": 6
        }
      ]
    },
    {
      "cell_type": "code",
      "metadata": {
        "id": "mPwjl_VrgE-9",
        "colab_type": "code",
        "colab": {
          "base_uri": "https://localhost:8080/",
          "height": 34
        },
        "outputId": "18192b48-827b-4125-aa14-e6a3f6c518c6"
      },
      "source": [
        "it = iter(dataset1)\n",
        "it.next()"
      ],
      "execution_count": null,
      "outputs": [
        {
          "output_type": "execute_result",
          "data": {
            "text/plain": [
              "<tf.Tensor: shape=(3,), dtype=float32, numpy=array([0.3890667, 0.2886604, 0.3759637], dtype=float32)>"
            ]
          },
          "metadata": {
            "tags": []
          },
          "execution_count": 7
        }
      ]
    },
    {
      "cell_type": "code",
      "metadata": {
        "id": "xDu0z2Nyf1Ll",
        "colab_type": "code",
        "colab": {
          "base_uri": "https://localhost:8080/",
          "height": 50
        },
        "outputId": "1846d73e-d5ad-43fe-f79f-e43c09853e8e"
      },
      "source": [
        "dataset2 = tf.data.Dataset.from_tensor_slices((\n",
        "    tf.random.uniform((4,)),\n",
        "    tf.random.uniform((4,3),maxval=10,dtype=tf.int32)\n",
        "))\n",
        "dataset2.element_spec"
      ],
      "execution_count": null,
      "outputs": [
        {
          "output_type": "execute_result",
          "data": {
            "text/plain": [
              "(TensorSpec(shape=(), dtype=tf.float32, name=None),\n",
              " TensorSpec(shape=(3,), dtype=tf.int32, name=None))"
            ]
          },
          "metadata": {
            "tags": []
          },
          "execution_count": 8
        }
      ]
    },
    {
      "cell_type": "code",
      "metadata": {
        "id": "xIP8Udh_g3FL",
        "colab_type": "code",
        "colab": {
          "base_uri": "https://localhost:8080/",
          "height": 50
        },
        "outputId": "98717ac9-75c9-4af5-853e-62d971827fb9"
      },
      "source": [
        "d = dataset2.take(1)\n",
        "print(d)\n",
        "d.as_numpy_iterator().next()"
      ],
      "execution_count": null,
      "outputs": [
        {
          "output_type": "stream",
          "text": [
            "<TakeDataset shapes: ((), (3,)), types: (tf.float32, tf.int32)>\n"
          ],
          "name": "stdout"
        },
        {
          "output_type": "execute_result",
          "data": {
            "text/plain": [
              "(0.40140188, array([8, 1, 0], dtype=int32))"
            ]
          },
          "metadata": {
            "tags": []
          },
          "execution_count": 9
        }
      ]
    },
    {
      "cell_type": "code",
      "metadata": {
        "id": "JgvZgKdji7a6",
        "colab_type": "code",
        "colab": {
          "base_uri": "https://localhost:8080/",
          "height": 67
        },
        "outputId": "541a9847-c813-4436-c859-b7788256e120"
      },
      "source": [
        "dataset3 = tf.data.Dataset.zip((dataset1,dataset2))\n",
        "dataset3.element_spec"
      ],
      "execution_count": null,
      "outputs": [
        {
          "output_type": "execute_result",
          "data": {
            "text/plain": [
              "(TensorSpec(shape=(3,), dtype=tf.float32, name=None),\n",
              " (TensorSpec(shape=(), dtype=tf.float32, name=None),\n",
              "  TensorSpec(shape=(3,), dtype=tf.int32, name=None)))"
            ]
          },
          "metadata": {
            "tags": []
          },
          "execution_count": 10
        }
      ]
    },
    {
      "cell_type": "code",
      "metadata": {
        "id": "-4Rep79Ym-3F",
        "colab_type": "code",
        "colab": {
          "base_uri": "https://localhost:8080/",
          "height": 34
        },
        "outputId": "4de24775-5059-4610-a102-1c417c104cec"
      },
      "source": [
        "t = tf.SparseTensor(indices=((0,0),(1,2)),values=(1,2),dense_shape=(3,4))\n",
        "dataset4 = tf.data.Dataset.from_tensors(t)\n",
        "dataset4.element_spec"
      ],
      "execution_count": null,
      "outputs": [
        {
          "output_type": "execute_result",
          "data": {
            "text/plain": [
              "SparseTensorSpec(TensorShape([3, 4]), tf.int32)"
            ]
          },
          "metadata": {
            "tags": []
          },
          "execution_count": 11
        }
      ]
    },
    {
      "cell_type": "code",
      "metadata": {
        "id": "1vCk3wTNvVyq",
        "colab_type": "code",
        "colab": {
          "base_uri": "https://localhost:8080/",
          "height": 34
        },
        "outputId": "849cf4f5-ba67-4c14-db63-c096c5b69a40"
      },
      "source": [
        "dataset4.element_spec.value_type"
      ],
      "execution_count": null,
      "outputs": [
        {
          "output_type": "execute_result",
          "data": {
            "text/plain": [
              "tensorflow.python.framework.sparse_tensor.SparseTensor"
            ]
          },
          "metadata": {
            "tags": []
          },
          "execution_count": 12
        }
      ]
    },
    {
      "cell_type": "markdown",
      "metadata": {
        "id": "aNkJjyfswBxp",
        "colab_type": "text"
      },
      "source": [
        "# Преобразования"
      ]
    },
    {
      "cell_type": "code",
      "metadata": {
        "id": "arYqCyMMwE0c",
        "colab_type": "code",
        "colab": {
          "base_uri": "https://localhost:8080/",
          "height": 34
        },
        "outputId": "60a764f1-01ea-40e3-b8bd-08829371197d"
      },
      "source": [
        "dataset1 = tf.data.Dataset.from_tensor_slices(\n",
        "    tf.random.uniform((4,10),minval=1,maxval=10,dtype=tf.int32)\n",
        ")\n",
        "dataset1"
      ],
      "execution_count": null,
      "outputs": [
        {
          "output_type": "execute_result",
          "data": {
            "text/plain": [
              "<TensorSliceDataset shapes: (10,), types: tf.int32>"
            ]
          },
          "metadata": {
            "tags": []
          },
          "execution_count": 13
        }
      ]
    },
    {
      "cell_type": "code",
      "metadata": {
        "id": "IlyPKeqNw5L4",
        "colab_type": "code",
        "colab": {
          "base_uri": "https://localhost:8080/",
          "height": 84
        },
        "outputId": "f74a104b-dff0-47b2-ee56-ae4d704c2c77"
      },
      "source": [
        "for z in dataset1:\n",
        "    print(z)"
      ],
      "execution_count": null,
      "outputs": [
        {
          "output_type": "stream",
          "text": [
            "tf.Tensor([9 6 8 9 4 8 6 5 8 9], shape=(10,), dtype=int32)\n",
            "tf.Tensor([8 3 3 2 8 3 6 4 3 2], shape=(10,), dtype=int32)\n",
            "tf.Tensor([4 3 9 5 4 3 4 6 4 2], shape=(10,), dtype=int32)\n",
            "tf.Tensor([6 2 3 2 5 6 9 5 9 1], shape=(10,), dtype=int32)\n"
          ],
          "name": "stdout"
        }
      ]
    },
    {
      "cell_type": "code",
      "metadata": {
        "id": "Xw5AoHGIxVVJ",
        "colab_type": "code",
        "colab": {
          "base_uri": "https://localhost:8080/",
          "height": 34
        },
        "outputId": "8b70b956-e036-40ca-bacb-6309da3e66a9"
      },
      "source": [
        "dataset2 = tf.data.Dataset.from_tensor_slices(\n",
        "    (\n",
        "        tf.random.uniform((4,)),\n",
        "        tf.random.uniform((4,100),maxval=10,dtype=tf.int32)\n",
        "    )\n",
        ")\n",
        "dataset2"
      ],
      "execution_count": null,
      "outputs": [
        {
          "output_type": "execute_result",
          "data": {
            "text/plain": [
              "<TensorSliceDataset shapes: ((), (100,)), types: (tf.float32, tf.int32)>"
            ]
          },
          "metadata": {
            "tags": []
          },
          "execution_count": 15
        }
      ]
    },
    {
      "cell_type": "code",
      "metadata": {
        "id": "qCqo7ghYyT27",
        "colab_type": "code",
        "colab": {
          "base_uri": "https://localhost:8080/",
          "height": 34
        },
        "outputId": "fb12dfff-0a4f-4c99-a775-7473654d776f"
      },
      "source": [
        "dataset3 = tf.data.Dataset.zip((dataset1,dataset2))\n",
        "dataset3"
      ],
      "execution_count": null,
      "outputs": [
        {
          "output_type": "execute_result",
          "data": {
            "text/plain": [
              "<ZipDataset shapes: ((10,), ((), (100,))), types: (tf.int32, (tf.float32, tf.int32))>"
            ]
          },
          "metadata": {
            "tags": []
          },
          "execution_count": 16
        }
      ]
    },
    {
      "cell_type": "code",
      "metadata": {
        "id": "9mORIlGsysuk",
        "colab_type": "code",
        "colab": {
          "base_uri": "https://localhost:8080/",
          "height": 84
        },
        "outputId": "72fb8bca-46c7-4092-d27b-4131dbecd10c"
      },
      "source": [
        "for a,(b,c) in dataset3:\n",
        "    print('shapes:',a.shape,b.shape,c.shape)"
      ],
      "execution_count": null,
      "outputs": [
        {
          "output_type": "stream",
          "text": [
            "shapes: (10,) () (100,)\n",
            "shapes: (10,) () (100,)\n",
            "shapes: (10,) () (100,)\n",
            "shapes: (10,) () (100,)\n"
          ],
          "name": "stdout"
        }
      ]
    },
    {
      "cell_type": "markdown",
      "metadata": {
        "id": "1jMuI-Eyzddo",
        "colab_type": "text"
      },
      "source": [
        "# Чтение входных данных"
      ]
    },
    {
      "cell_type": "code",
      "metadata": {
        "id": "42lNOXU2zBzL",
        "colab_type": "code",
        "colab": {
          "base_uri": "https://localhost:8080/",
          "height": 151
        },
        "outputId": "642b0f49-e94e-4642-d1fd-75e200073281"
      },
      "source": [
        "train,test = tf.keras.datasets.fashion_mnist.load_data()"
      ],
      "execution_count": null,
      "outputs": [
        {
          "output_type": "stream",
          "text": [
            "Downloading data from https://storage.googleapis.com/tensorflow/tf-keras-datasets/train-labels-idx1-ubyte.gz\n",
            "32768/29515 [=================================] - 0s 0us/step\n",
            "Downloading data from https://storage.googleapis.com/tensorflow/tf-keras-datasets/train-images-idx3-ubyte.gz\n",
            "26427392/26421880 [==============================] - 0s 0us/step\n",
            "Downloading data from https://storage.googleapis.com/tensorflow/tf-keras-datasets/t10k-labels-idx1-ubyte.gz\n",
            "8192/5148 [===============================================] - 0s 0us/step\n",
            "Downloading data from https://storage.googleapis.com/tensorflow/tf-keras-datasets/t10k-images-idx3-ubyte.gz\n",
            "4423680/4422102 [==============================] - 0s 0us/step\n"
          ],
          "name": "stdout"
        }
      ]
    },
    {
      "cell_type": "code",
      "metadata": {
        "id": "oDon0m2F0uqP",
        "colab_type": "code",
        "colab": {
          "base_uri": "https://localhost:8080/",
          "height": 34
        },
        "outputId": "afe52ac1-d5c9-42be-8962-3b3a1fd7f0b1"
      },
      "source": [
        "train[0].shape,train[1].shape"
      ],
      "execution_count": null,
      "outputs": [
        {
          "output_type": "execute_result",
          "data": {
            "text/plain": [
              "((60000, 28, 28), (60000,))"
            ]
          },
          "metadata": {
            "tags": []
          },
          "execution_count": 19
        }
      ]
    },
    {
      "cell_type": "code",
      "metadata": {
        "id": "Pwz7og_y1aGY",
        "colab_type": "code",
        "colab": {}
      },
      "source": [
        "images,labels = train\n",
        "images = images / 255"
      ],
      "execution_count": null,
      "outputs": []
    },
    {
      "cell_type": "code",
      "metadata": {
        "id": "fGEkK4B81hL3",
        "colab_type": "code",
        "colab": {
          "base_uri": "https://localhost:8080/",
          "height": 34
        },
        "outputId": "69f2fdf2-72c5-46a1-923d-19858e5b2d04"
      },
      "source": [
        "dataset = tf.data.Dataset.from_tensor_slices((images,labels))\n",
        "dataset"
      ],
      "execution_count": null,
      "outputs": [
        {
          "output_type": "execute_result",
          "data": {
            "text/plain": [
              "<TensorSliceDataset shapes: ((28, 28), ()), types: (tf.float64, tf.uint8)>"
            ]
          },
          "metadata": {
            "tags": []
          },
          "execution_count": 21
        }
      ]
    },
    {
      "cell_type": "markdown",
      "metadata": {
        "id": "5quLQ_9G2e4C",
        "colab_type": "text"
      },
      "source": [
        "## Использование генераторов"
      ]
    },
    {
      "cell_type": "code",
      "metadata": {
        "id": "PD3uDzvp2Pxk",
        "colab_type": "code",
        "colab": {}
      },
      "source": [
        "def count(stop):\n",
        "    i = 0\n",
        "    while i<stop:\n",
        "        yield i\n",
        "        i += 1"
      ],
      "execution_count": null,
      "outputs": []
    },
    {
      "cell_type": "code",
      "metadata": {
        "id": "b_VjJIS423ne",
        "colab_type": "code",
        "colab": {
          "base_uri": "https://localhost:8080/",
          "height": 101
        },
        "outputId": "a552ffd2-cef9-42ee-c6e8-0c1eecc2ceda"
      },
      "source": [
        "for n in count(5):\n",
        "    print(n)"
      ],
      "execution_count": null,
      "outputs": [
        {
          "output_type": "stream",
          "text": [
            "0\n",
            "1\n",
            "2\n",
            "3\n",
            "4\n"
          ],
          "name": "stdout"
        }
      ]
    },
    {
      "cell_type": "code",
      "metadata": {
        "id": "vNbHrIur3erT",
        "colab_type": "code",
        "colab": {
          "base_uri": "https://localhost:8080/",
          "height": 34
        },
        "outputId": "534d9a10-4771-4661-9cde-d28d3cf62d04"
      },
      "source": [
        "ds_counter = tf.data.Dataset.from_generator(count,output_types=tf.int32,output_shapes=(),args=[25])\n",
        "ds_counter"
      ],
      "execution_count": null,
      "outputs": [
        {
          "output_type": "execute_result",
          "data": {
            "text/plain": [
              "<FlatMapDataset shapes: (), types: tf.int32>"
            ]
          },
          "metadata": {
            "tags": []
          },
          "execution_count": 24
        }
      ]
    },
    {
      "cell_type": "code",
      "metadata": {
        "id": "31r6vCwp4PJZ",
        "colab_type": "code",
        "colab": {
          "base_uri": "https://localhost:8080/",
          "height": 185
        },
        "outputId": "5941b3de-8836-492d-be4d-3e7f344ea817"
      },
      "source": [
        "for count_batch in ds_counter.repeat().batch(10).take(10):\n",
        "    print(count_batch.numpy())"
      ],
      "execution_count": null,
      "outputs": [
        {
          "output_type": "stream",
          "text": [
            "[0 1 2 3 4 5 6 7 8 9]\n",
            "[10 11 12 13 14 15 16 17 18 19]\n",
            "[20 21 22 23 24  0  1  2  3  4]\n",
            "[ 5  6  7  8  9 10 11 12 13 14]\n",
            "[15 16 17 18 19 20 21 22 23 24]\n",
            "[0 1 2 3 4 5 6 7 8 9]\n",
            "[10 11 12 13 14 15 16 17 18 19]\n",
            "[20 21 22 23 24  0  1  2  3  4]\n",
            "[ 5  6  7  8  9 10 11 12 13 14]\n",
            "[15 16 17 18 19 20 21 22 23 24]\n"
          ],
          "name": "stdout"
        }
      ]
    },
    {
      "cell_type": "code",
      "metadata": {
        "id": "DKSQ-1wD8eUH",
        "colab_type": "code",
        "colab": {}
      },
      "source": [
        "import numpy as np\n",
        "\n",
        "np.set_printoptions(precision=4)\n",
        "\n",
        "def gen_series():\n",
        "    i = 0\n",
        "    while True:\n",
        "        size = np.random.randint(1,10)\n",
        "        yield i, np.random.randn(size)\n",
        "        i += 1"
      ],
      "execution_count": null,
      "outputs": []
    },
    {
      "cell_type": "code",
      "metadata": {
        "id": "_b7x6-aY9Pvw",
        "colab_type": "code",
        "colab": {
          "base_uri": "https://localhost:8080/",
          "height": 134
        },
        "outputId": "2658877d-6af4-4eb1-bedd-ce0a9b0ee46a"
      },
      "source": [
        "for i,series in gen_series():\n",
        "    print(i,':',str(series))\n",
        "    if i>5:\n",
        "        break"
      ],
      "execution_count": null,
      "outputs": [
        {
          "output_type": "stream",
          "text": [
            "0 : [-0.0963 -1.5694 -1.945  -1.4031 -0.1682]\n",
            "1 : [-0.2191  1.6038 -0.2073  0.036   2.5549]\n",
            "2 : [-0.7925  0.4341  0.1008  1.3615 -1.519   0.4369]\n",
            "3 : [-1.4789  1.5803 -1.292  -0.8222 -0.2652  0.621  -0.8616 -2.1116]\n",
            "4 : [-0.1103]\n",
            "5 : [ 0.6304 -1.125 ]\n",
            "6 : [-0.3275 -1.5769 -0.1282]\n"
          ],
          "name": "stdout"
        }
      ]
    },
    {
      "cell_type": "code",
      "metadata": {
        "id": "R8QcVmKO_gaM",
        "colab_type": "code",
        "colab": {
          "base_uri": "https://localhost:8080/",
          "height": 118
        },
        "outputId": "d9c45a23-8bb4-45ba-dfb0-888681bfebf5"
      },
      "source": [
        "ds_series = tf.data.Dataset.from_generator(\n",
        "    gen_series,\n",
        "    output_types = (tf.int32,tf.float32),\n",
        "    output_shapes = ((),(None,))\n",
        ")\n",
        "\n",
        "print(ds_series)\n",
        "\n",
        "ds_series_batch = ds_series.shuffle(20)\n",
        "for item in ds_series_batch.take(3):\n",
        "    print(item)"
      ],
      "execution_count": null,
      "outputs": [
        {
          "output_type": "stream",
          "text": [
            "<FlatMapDataset shapes: ((), (None,)), types: (tf.int32, tf.float32)>\n",
            "(<tf.Tensor: shape=(), dtype=int32, numpy=2>, <tf.Tensor: shape=(2,), dtype=float32, numpy=array([-0.1749,  1.0353], dtype=float32)>)\n",
            "(<tf.Tensor: shape=(), dtype=int32, numpy=14>, <tf.Tensor: shape=(8,), dtype=float32, numpy=\n",
            "array([-0.1767,  0.664 ,  0.0115, -0.6613,  0.3888, -1.3676,  0.8567,\n",
            "       -0.5775], dtype=float32)>)\n",
            "(<tf.Tensor: shape=(), dtype=int32, numpy=13>, <tf.Tensor: shape=(3,), dtype=float32, numpy=array([-1.1637, -0.7205,  0.6247], dtype=float32)>)\n"
          ],
          "name": "stdout"
        }
      ]
    },
    {
      "cell_type": "code",
      "metadata": {
        "id": "e-TyahepGHgJ",
        "colab_type": "code",
        "colab": {
          "base_uri": "https://localhost:8080/",
          "height": 134
        },
        "outputId": "baeaf466-bcc3-4e43-e77b-d7c03e66b898"
      },
      "source": [
        "ds_series = tf.data.Dataset.from_generator(\n",
        "    gen_series,\n",
        "    output_types = (tf.int32,tf.float32),\n",
        "    output_shapes = ((),(None,))\n",
        ")\n",
        "\n",
        "print(ds_series)\n",
        "\n",
        "ds_series_batch = ds_series.shuffle(20).padded_batch(4)\n",
        "for ids,sequence_batch in ds_series_batch.take(1):\n",
        "    print(ids.numpy())\n",
        "    print()\n",
        "    print(sequence_batch.numpy())"
      ],
      "execution_count": null,
      "outputs": [
        {
          "output_type": "stream",
          "text": [
            "<FlatMapDataset shapes: ((), (None,)), types: (tf.int32, tf.float32)>\n",
            "[ 5  7 17 19]\n",
            "\n",
            "[[ 0.8057 -1.1057  0.      0.      0.      0.      0.      0.      0.    ]\n",
            " [ 0.9916 -0.6004 -1.1232  0.      0.      0.      0.      0.      0.    ]\n",
            " [ 0.4303 -1.0222 -0.9614  0.6349 -1.3889 -2.0788 -0.0897  0.3258  2.0922]\n",
            " [ 0.0584  0.      0.      0.      0.      0.      0.      0.      0.    ]]\n"
          ],
          "name": "stdout"
        }
      ]
    },
    {
      "cell_type": "code",
      "metadata": {
        "id": "lm0vwrxPNIDq",
        "colab_type": "code",
        "colab": {
          "base_uri": "https://localhost:8080/",
          "height": 50
        },
        "outputId": "5f43fe8c-2238-4c39-a781-7eae52df87dd"
      },
      "source": [
        "flowers = tf.keras.utils.get_file('flower_photos','https://storage.googleapis.com/download.tensorflow.org/example_images/flower_photos.tgz',untar=True)"
      ],
      "execution_count": null,
      "outputs": [
        {
          "output_type": "stream",
          "text": [
            "Downloading data from https://storage.googleapis.com/download.tensorflow.org/example_images/flower_photos.tgz\n",
            "228818944/228813984 [==============================] - 2s 0us/step\n"
          ],
          "name": "stdout"
        }
      ]
    },
    {
      "cell_type": "code",
      "metadata": {
        "id": "fGg4KM6XODeW",
        "colab_type": "code",
        "colab": {}
      },
      "source": [
        "img_gen = tf.keras.preprocessing.image.ImageDataGenerator(rescale=1./255,rotation_range=20)"
      ],
      "execution_count": null,
      "outputs": []
    },
    {
      "cell_type": "code",
      "metadata": {
        "id": "lqXEhGrSXk5c",
        "colab_type": "code",
        "colab": {
          "base_uri": "https://localhost:8080/",
          "height": 34
        },
        "outputId": "af859044-e095-4849-9b2f-e716589cbe11"
      },
      "source": [
        "images, labels = next(img_gen.flow_from_directory(flowers))"
      ],
      "execution_count": null,
      "outputs": [
        {
          "output_type": "stream",
          "text": [
            "Found 3670 images belonging to 5 classes.\n"
          ],
          "name": "stdout"
        }
      ]
    },
    {
      "cell_type": "code",
      "metadata": {
        "id": "9rIx1H47X9wD",
        "colab_type": "code",
        "colab": {
          "base_uri": "https://localhost:8080/",
          "height": 50
        },
        "outputId": "402a14f8-5bf1-404b-ab5c-79298f5c7139"
      },
      "source": [
        "print(images.dtype,images.shape)\n",
        "print(labels.dtype,labels.shape)"
      ],
      "execution_count": null,
      "outputs": [
        {
          "output_type": "stream",
          "text": [
            "float32 (32, 256, 256, 3)\n",
            "float32 (32, 5)\n"
          ],
          "name": "stdout"
        }
      ]
    },
    {
      "cell_type": "code",
      "metadata": {
        "id": "mZMwicj-5GMS",
        "colab_type": "code",
        "colab": {
          "base_uri": "https://localhost:8080/",
          "height": 34
        },
        "outputId": "eae627f0-3b57-4e9a-f624-fdaaf8bdd661"
      },
      "source": [
        " ds = tf.data.Dataset.from_generator(\n",
        "    img_gen.flow_from_directory, args=[flowers], \n",
        "    output_types=(tf.float32, tf.float32), \n",
        "    output_shapes=([32,256,256,3], [32,5])\n",
        ")\n",
        "\n",
        "ds\n",
        " "
      ],
      "execution_count": null,
      "outputs": [
        {
          "output_type": "execute_result",
          "data": {
            "text/plain": [
              "<FlatMapDataset shapes: ((32, 256, 256, 3), (32, 5)), types: (tf.float32, tf.float32)>"
            ]
          },
          "metadata": {
            "tags": []
          },
          "execution_count": 34
        }
      ]
    },
    {
      "cell_type": "markdown",
      "metadata": {
        "id": "seV60YC95Lvw",
        "colab_type": "text"
      },
      "source": [
        "## Использование данных TFRecord"
      ]
    },
    {
      "cell_type": "code",
      "metadata": {
        "id": "zvwB-DEe5NI4",
        "colab_type": "code",
        "colab": {
          "base_uri": "https://localhost:8080/",
          "height": 50
        },
        "outputId": "1f18afcd-e9aa-437e-dc65-4082c6aa9303"
      },
      "source": [
        " # Creates a dataset that reads all of the examples from two files.\n",
        "fsns_test_file = tf.keras.utils.get_file(\"fsns.tfrec\", \"https://storage.googleapis.com/download.tensorflow.org/data/fsns-20160927/testdata/fsns-00000-of-00001\")\n",
        " "
      ],
      "execution_count": null,
      "outputs": [
        {
          "output_type": "stream",
          "text": [
            "Downloading data from https://storage.googleapis.com/download.tensorflow.org/data/fsns-20160927/testdata/fsns-00000-of-00001\n",
            "7905280/7904079 [==============================] - 0s 0us/step\n"
          ],
          "name": "stdout"
        }
      ]
    },
    {
      "cell_type": "code",
      "metadata": {
        "id": "RMF482JK5uT0",
        "colab_type": "code",
        "colab": {
          "base_uri": "https://localhost:8080/",
          "height": 34
        },
        "outputId": "d84d8c9c-13b8-4a05-ffa7-79bea598c5b4"
      },
      "source": [
        "dataset = tf.data.TFRecordDataset(filenames=[fsns_test_file])\n",
        "dataset"
      ],
      "execution_count": null,
      "outputs": [
        {
          "output_type": "execute_result",
          "data": {
            "text/plain": [
              "<TFRecordDatasetV2 shapes: (), types: tf.string>"
            ]
          },
          "metadata": {
            "tags": []
          },
          "execution_count": 37
        }
      ]
    },
    {
      "cell_type": "markdown",
      "metadata": {
        "id": "MBGd7zfO6fjW",
        "colab_type": "text"
      },
      "source": [
        "## Использование текстовых данных "
      ]
    },
    {
      "cell_type": "code",
      "metadata": {
        "id": "oVc7ahX86g0r",
        "colab_type": "code",
        "colab": {
          "base_uri": "https://localhost:8080/",
          "height": 118
        },
        "outputId": "b89ee6e6-2951-417d-904f-d3a82cbb479c"
      },
      "source": [
        "directory_url = 'https://storage.googleapis.com/download.tensorflow.org/data/illiad/'\n",
        "file_names = ['cowper.txt', 'derby.txt', 'butler.txt']\n",
        "file_paths = [\n",
        "    tf.keras.utils.get_file(file_name, directory_url + file_name)\n",
        "    for file_name in file_names\n",
        "]"
      ],
      "execution_count": null,
      "outputs": [
        {
          "output_type": "stream",
          "text": [
            "Downloading data from https://storage.googleapis.com/download.tensorflow.org/data/illiad/cowper.txt\n",
            "819200/815980 [==============================] - 0s 0us/step\n",
            "Downloading data from https://storage.googleapis.com/download.tensorflow.org/data/illiad/derby.txt\n",
            "811008/809730 [==============================] - 0s 0us/step\n",
            "Downloading data from https://storage.googleapis.com/download.tensorflow.org/data/illiad/butler.txt\n",
            "811008/807992 [==============================] - 0s 0us/step\n"
          ],
          "name": "stdout"
        }
      ]
    },
    {
      "cell_type": "code",
      "metadata": {
        "id": "GlJLyZax9Y-e",
        "colab_type": "code",
        "colab": {
          "base_uri": "https://localhost:8080/",
          "height": 67
        },
        "outputId": "0cf47b6c-4cd9-422b-81eb-ace225469c40"
      },
      "source": [
        "file_paths"
      ],
      "execution_count": null,
      "outputs": [
        {
          "output_type": "execute_result",
          "data": {
            "text/plain": [
              "['/root/.keras/datasets/cowper.txt',\n",
              " '/root/.keras/datasets/derby.txt',\n",
              " '/root/.keras/datasets/butler.txt']"
            ]
          },
          "metadata": {
            "tags": []
          },
          "execution_count": 40
        }
      ]
    },
    {
      "cell_type": "code",
      "metadata": {
        "id": "Dxay1B5V9eau",
        "colab_type": "code",
        "colab": {
          "base_uri": "https://localhost:8080/",
          "height": 185
        },
        "outputId": "386981e4-d8cb-4d75-ae19-b0bb35149104"
      },
      "source": [
        "! head /root/.keras/datasets/cowper.txt"
      ],
      "execution_count": null,
      "outputs": [
        {
          "output_type": "stream",
          "text": [
            "﻿Achilles sing, O Goddess! Peleus' son;\n",
            "His wrath pernicious, who ten thousand woes\n",
            "Caused to Achaia's host, sent many a soul\n",
            "Illustrious into Ades premature,\n",
            "And Heroes gave (so stood the will of Jove)\n",
            "To dogs and to all ravening fowls a prey,\n",
            "When fierce dispute had separated once\n",
            "The noble Chief Achilles from the son\n",
            "Of Atreus, Agamemnon, King of men.\n",
            "Who them to strife impell'd? What power divine?\n"
          ],
          "name": "stdout"
        }
      ]
    },
    {
      "cell_type": "code",
      "metadata": {
        "id": "yeLbBZyY9ovV",
        "colab_type": "code",
        "colab": {
          "base_uri": "https://localhost:8080/",
          "height": 34
        },
        "outputId": "1c85f1ec-84ad-40c3-8be9-7e6e4e01bc53"
      },
      "source": [
        "dataset = tf.data.TextLineDataset(file_paths)\n",
        "dataset"
      ],
      "execution_count": null,
      "outputs": [
        {
          "output_type": "execute_result",
          "data": {
            "text/plain": [
              "<TextLineDatasetV2 shapes: (), types: tf.string>"
            ]
          },
          "metadata": {
            "tags": []
          },
          "execution_count": 42
        }
      ]
    },
    {
      "cell_type": "code",
      "metadata": {
        "id": "sYvypIhp98VZ",
        "colab_type": "code",
        "colab": {
          "base_uri": "https://localhost:8080/",
          "height": 101
        },
        "outputId": "1924e6a1-aed7-4269-f9da-9981a92483c3"
      },
      "source": [
        "for line in dataset.take(5):\n",
        "    print(line.numpy())"
      ],
      "execution_count": null,
      "outputs": [
        {
          "output_type": "stream",
          "text": [
            "b\"\\xef\\xbb\\xbfAchilles sing, O Goddess! Peleus' son;\"\n",
            "b'His wrath pernicious, who ten thousand woes'\n",
            "b\"Caused to Achaia's host, sent many a soul\"\n",
            "b'Illustrious into Ades premature,'\n",
            "b'And Heroes gave (so stood the will of Jove)'\n"
          ],
          "name": "stdout"
        }
      ]
    },
    {
      "cell_type": "markdown",
      "metadata": {
        "id": "1xS1ULPe-ZPf",
        "colab_type": "text"
      },
      "source": [
        "## Использование данных CSV"
      ]
    },
    {
      "cell_type": "code",
      "metadata": {
        "id": "rLm22IGZ-hem",
        "colab_type": "code",
        "colab": {
          "base_uri": "https://localhost:8080/",
          "height": 50
        },
        "outputId": "ddfa0cd9-5d43-4c83-8ee7-9796e3e48317"
      },
      "source": [
        " titanic_file = tf.keras.utils.get_file(\"train.csv\", \"https://storage.googleapis.com/tf-datasets/titanic/train.csv\")"
      ],
      "execution_count": null,
      "outputs": [
        {
          "output_type": "stream",
          "text": [
            "Downloading data from https://storage.googleapis.com/tf-datasets/titanic/train.csv\n",
            "32768/30874 [===============================] - 0s 0us/step\n"
          ],
          "name": "stdout"
        }
      ]
    }
  ]
}